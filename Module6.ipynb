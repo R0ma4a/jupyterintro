{
 "cells": [
  {
   "cell_type": "markdown",
   "id": "1e1ab692",
   "metadata": {},
   "source": [
    "Task 1:"
   ]
  },
  {
   "cell_type": "code",
   "execution_count": null,
   "id": "00d3cf64",
   "metadata": {},
   "outputs": [
    {
     "name": "stdout",
     "output_type": "stream",
     "text": [
      "Hello, Roman!\n"
     ]
    },
    {
     "data": {
      "text/plain": [
       "30"
      ]
     },
     "metadata": {},
     "output_type": "display_data"
    },
    {
     "data": {
      "text/plain": [
       "1.83"
      ]
     },
     "metadata": {},
     "output_type": "display_data"
    }
   ],
   "source": [
    "name = \"Roman\"\n",
    "\n",
    "age = 20\n",
    "\n",
    "height = 183\n",
    "\n",
    "print(\"Hello, {}!\" .format(name))\n",
    "\n",
    "ageInTenYears = age + 10\n",
    "\n",
    "display(ageInTenYears)\n",
    "\n",
    "display(183/100)"
   ]
  },
  {
   "cell_type": "markdown",
   "id": "9b766a77",
   "metadata": {},
   "source": [
    "Task 2:"
   ]
  },
  {
   "cell_type": "code",
   "execution_count": null,
   "id": "5f1eb658",
   "metadata": {},
   "outputs": [
    {
     "name": "stdout",
     "output_type": "stream",
     "text": [
      "The input, 8.0, is positive.\n"
     ]
    }
   ],
   "source": [
    "givenNumber = float(input(\"Please enter a number: \"))\n",
    "\n",
    "if(givenNumber > 0):\n",
    "    print(\"The input, {}, is positive.\" .format(givenNumber))\n",
    "elif(givenNumber == 0):\n",
    "    print(\"The input, {}, is zero.\" .format(givenNumber))\n",
    "else:\n",
    "    print(\"The input, {}, is negative.\" .format(givenNumber))"
   ]
  },
  {
   "cell_type": "markdown",
   "id": "d3abfbcb",
   "metadata": {},
   "source": [
    "Task 3:"
   ]
  },
  {
   "cell_type": "code",
   "execution_count": null,
   "id": "69babc2d",
   "metadata": {},
   "outputs": [],
   "source": [
    "nnn = int(input(\"Please enter an integer nnn: \"))\n",
    "\n",
    "for i in range(0, nnn):\n",
    "    if(i%2==0):\n",
    "        print(i)"
   ]
  },
  {
   "cell_type": "markdown",
   "id": "804f57f6",
   "metadata": {},
   "source": [
    "Task 4:"
   ]
  },
  {
   "cell_type": "code",
   "execution_count": 18,
   "id": "1b97e5d0",
   "metadata": {},
   "outputs": [
    {
     "name": "stdout",
     "output_type": "stream",
     "text": [
      "51.150000000000006\n"
     ]
    }
   ],
   "source": [
    "def calculateArea(length, width):\n",
    "    return length * width\n",
    "\n",
    "inputLength = float(input(\"Please enter the length of the rectangle: \"))\n",
    "inputWidth = float(input(\"Please enter the width of the rectangle: \"))\n",
    "\n",
    "print(calculateArea(inputLength, inputWidth))"
   ]
  }
 ],
 "metadata": {
  "kernelspec": {
   "display_name": "Python 3",
   "language": "python",
   "name": "python3"
  },
  "language_info": {
   "codemirror_mode": {
    "name": "ipython",
    "version": 3
   },
   "file_extension": ".py",
   "mimetype": "text/x-python",
   "name": "python",
   "nbconvert_exporter": "python",
   "pygments_lexer": "ipython3",
   "version": "3.13.5"
  }
 },
 "nbformat": 4,
 "nbformat_minor": 5
}
